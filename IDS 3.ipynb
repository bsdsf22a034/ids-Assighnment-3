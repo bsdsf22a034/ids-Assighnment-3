{
  "cells": [
    {
      "cell_type": "code",
      "execution_count": 4,
      "metadata": {
        "trusted": true
      },
      "outputs": [
        {
          "name": "stdout",
          "output_type": "stream",
          "text": [
            "[{'customer': 'Alice', 'total': 250.5}, {'customer': 'Charlie', 'total': 450}, {'customer': 'Daisy', 'total': 100.0}]\n",
            "[{'customer': 'Alice', 'total': 250.5}, {'customer': 'Charlie', 'total': 405.0}, {'customer': 'Daisy', 'total': 100.0}]\n",
            "Total sales: $755.50\n"
          ]
        }
      ],
      "source": [
        "#task:01\n",
        "orders = [\n",
        "    {\"customer\": \"Alice\", \"total\": 250.5},\n",
        "    {\"customer\": \"Bob\", \"total\": \"invalid_data\"},\n",
        "    {\"customer\": \"Charlie\", \"total\": 450},\n",
        "    {\"customer\": \"Daisy\", \"total\": 100.0},\n",
        "    {\"customer\": \"Eve\", \"total\": -30},  # Invalid total\n",
        "]\n",
        "\n",
        "def validate_orders(orders):\n",
        "    def is_valid_order(order):\n",
        "        try:\n",
        "            total = float(order['total'])  # Convert total to float\n",
        "            return total >= 0  # Return True if valid (non-negative number)\n",
        "        except (ValueError, TypeError):\n",
        "            return False  # Invalid if conversion fails\n",
        "\n",
        "    # Filter valid orders using filter() and lambda\n",
        "    valid_orders = list(filter(lambda order: is_valid_order(order), orders))\n",
        "\n",
        "    return valid_orders\n",
        "\n",
        "# Test the function\n",
        "valid_orders = validate_orders(orders)\n",
        "print(valid_orders)\n",
        "\n",
        "# Apply Discount\n",
        "def apply_discount(orders):\n",
        "    # Apply 10% discount to orders with total > 300\n",
        "    def discount_order(order):\n",
        "        if order['total'] > 300:\n",
        "            order['total'] *= 0.9  # Apply 10% discount\n",
        "        return order\n",
        "\n",
        "    # Use map() to apply the discount using a lambda\n",
        "    discounted_orders = list(map(lambda order: discount_order(order), orders))\n",
        "\n",
        "    return discounted_orders\n",
        "\n",
        "# Test with valid orders from the previous function\n",
        "discounted_orders = apply_discount(valid_orders)\n",
        "print(discounted_orders)\n",
        "\n",
        "from functools import reduce\n",
        "# To calculate the total sale\n",
        "def calculate_total_sales(orders):\n",
        "    # Use reduce to sum up the 'total' from each order\n",
        "    total_sales = reduce(lambda acc, order: acc + order['total'], orders, 0)\n",
        "    return total_sales\n",
        "\n",
        "# Calculate total sales from the discounted orders\n",
        "total_sales = calculate_total_sales(discounted_orders)\n",
        "print(f\"Total sales: ${total_sales:.2f}\")\n"
      ]
    },
    {
      "cell_type": "code",
      "execution_count": 12,
      "metadata": {
        "trusted": true
      },
      "outputs": [
        {
          "name": "stdout",
          "output_type": "stream",
          "text": [
            "1\n",
            "4\n",
            "9\n",
            "16\n",
            "25\n",
            "0\n",
            "1\n",
            "1\n",
            "2\n",
            "3\n",
            "5\n",
            "8\n",
            "13\n"
          ]
        }
      ],
      "source": [
        "# task:02\n",
        "class SquareIterator:\n",
        "    def __init__(self, n):\n",
        "        self.n = n  # Number of iterations\n",
        "        self.current = 1  # Start from the first natural number\n",
        "\n",
        "    def __iter__(self):\n",
        "        return self  # The iterator object is self\n",
        "\n",
        "    def __next__(self):\n",
        "        if self.current <= self.n:\n",
        "            result = self.current ** 2  # Square of the current number\n",
        "            self.current += 1  # Move to the next number\n",
        "            return result  # Yield the square\n",
        "        else:\n",
        "            raise StopIteration  # Stop iteration when limit is reached\n",
        "\n",
        "# Example usage:\n",
        "square_iter = SquareIterator(5)\n",
        "for square in square_iter:\n",
        "    print(square)\n",
        "\n",
        "\n",
        "#part B\n",
        "def fibonacci_generator(n):\n",
        "    a, b = 0, 1\n",
        "    while a <= n:\n",
        "        yield a\n",
        "        a, b = b, a + b  # Move to the next Fibonacci number\n",
        "\n",
        "# Example usage:\n",
        "for fib in fibonacci_generator(20):\n",
        "    print(fib)\n"
      ]
    },
    {
      "cell_type": "code",
      "execution_count": 13,
      "metadata": {
        "trusted": true
      },
      "outputs": [
        {
          "name": "stdout",
          "output_type": "stream",
          "text": [
            "Exception: Exception - An error occurred while processing the list\n",
            "Exception in function 'divide':\n",
            "Type: ZeroDivisionError\n",
            "Message: division by zero\n"
          ]
        }
      ],
      "source": [
        "#task:03\n",
        "# Custom exception for division by zero\n",
        "class DivisionByZeroError(Exception):\n",
        "    def __init__(self, message=\"Cannot divide by zero\"):\n",
        "        self.message = message\n",
        "        super().__init__(self.message)\n",
        "\n",
        "# Function to divide each number in a list by a divisor\n",
        "def divide_numbers(numbers, divisor):\n",
        "    try:\n",
        "        if divisor == 0:\n",
        "            raise DivisionByZeroError()\n",
        "        \n",
        "        result = []\n",
        "        for num in numbers:\n",
        "            try:\n",
        "                result.append(num / divisor)\n",
        "            except TypeError as e:\n",
        "                raise TypeError(f\"Non-numeric input detected: {num}\") from e\n",
        "\n",
        "        return result\n",
        "\n",
        "    except DivisionByZeroError as e:\n",
        "        raise e  # Raise the custom exception for division by zero\n",
        "    except Exception as e:\n",
        "        raise Exception(\"An error occurred while processing the list\") from e  # Chain any other exception\n",
        "\n",
        "# Example usage:\n",
        "numbers = [10, 20, 'a', 40]\n",
        "try:\n",
        "    print(divide_numbers(numbers, 2))\n",
        "except Exception as e:\n",
        "    print(f\"Exception: {e.__class__.__name__} - {e}\")\n",
        "#part b\n",
        "import functools\n",
        "\n",
        "# Decorator for logging exceptions\n",
        "def exception_logger(func):\n",
        "    @functools.wraps(func)\n",
        "    def wrapper(*args, **kwargs):\n",
        "        try:\n",
        "            return func(*args, **kwargs)\n",
        "        except Exception as e:\n",
        "            print(f\"Exception in function '{func.__name__}':\")\n",
        "            print(f\"Type: {e.__class__.__name__}\")\n",
        "            print(f\"Message: {e}\")\n",
        "            raise  # Re-raise the exception after logging\n",
        "    return wrapper\n",
        "\n",
        "# Example function using the decorator\n",
        "@exception_logger\n",
        "def divide(a, b):\n",
        "    return a / b\n",
        "\n",
        "# Example usage:\n",
        "try:\n",
        "    result = divide(10, 0)\n",
        "except Exception as e:\n",
        "    pass  # Exception is already logged by the decorator\n"
      ]
    }
  ],
  "metadata": {
    "kernelspec": {
      "display_name": "Python (Pyodide)",
      "language": "python",
      "name": "python"
    },
    "language_info": {
      "codemirror_mode": {
        "name": "python",
        "version": 3
      },
      "file_extension": ".py",
      "mimetype": "text/x-python",
      "name": "python",
      "nbconvert_exporter": "python",
      "pygments_lexer": "ipython3",
      "version": "3.8"
    }
  },
  "nbformat": 4,
  "nbformat_minor": 4
}
